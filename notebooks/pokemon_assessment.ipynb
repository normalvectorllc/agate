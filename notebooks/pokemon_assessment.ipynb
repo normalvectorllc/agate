{
    "cells": [
        {
            "cell_type": "markdown",
            "metadata": {},
            "source": [
                "# AI/ML Coding Interview Assessment: Pokemon Dataset\n",
                "\n",
                "Welcome to the AI/ML coding interview assessment! In this assessment, you will work with the Pokemon dataset to demonstrate your data analysis and model building skills.\n",
                "\n",
                "The assessment is divided into four steps:\n",
                "1. Data Exploration\n",
                "2. Distribution Analysis\n",
                "3. Feature Selection & Type Prediction Model\n",
                "4. Attack Prediction Model\n",
                "\n",
                "You will be evaluated based on your ability to complete these steps, your understanding of statistics, and the accuracy of your models.\n",
                "\n",
                "Let's get started!"
            ]
        },
        {
            "cell_type": "markdown",
            "metadata": {},
            "source": [
                "## Setup\n",
                "\n",
                "First, let's import the necessary libraries and load the Pokemon dataset."
            ]
        },
        {
            "cell_type": "code",
            "execution_count": 2,
            "metadata": {},
            "outputs": [
                {
                    "data": {
                        "text/html": [
                            "<div>\n",
                            "<style scoped>\n",
                            "    .dataframe tbody tr th:only-of-type {\n",
                            "        vertical-align: middle;\n",
                            "    }\n",
                            "\n",
                            "    .dataframe tbody tr th {\n",
                            "        vertical-align: top;\n",
                            "    }\n",
                            "\n",
                            "    .dataframe thead th {\n",
                            "        text-align: right;\n",
                            "    }\n",
                            "</style>\n",
                            "<table border=\"1\" class=\"dataframe\">\n",
                            "  <thead>\n",
                            "    <tr style=\"text-align: right;\">\n",
                            "      <th></th>\n",
                            "      <th>abilities</th>\n",
                            "      <th>against_bug</th>\n",
                            "      <th>against_dark</th>\n",
                            "      <th>against_dragon</th>\n",
                            "      <th>against_electric</th>\n",
                            "      <th>against_fairy</th>\n",
                            "      <th>against_fight</th>\n",
                            "      <th>against_fire</th>\n",
                            "      <th>against_flying</th>\n",
                            "      <th>against_ghost</th>\n",
                            "      <th>...</th>\n",
                            "      <th>percentage_male</th>\n",
                            "      <th>pokedex_number</th>\n",
                            "      <th>sp_attack</th>\n",
                            "      <th>sp_defense</th>\n",
                            "      <th>speed</th>\n",
                            "      <th>type1</th>\n",
                            "      <th>type2</th>\n",
                            "      <th>weight_kg</th>\n",
                            "      <th>generation</th>\n",
                            "      <th>is_legendary</th>\n",
                            "    </tr>\n",
                            "  </thead>\n",
                            "  <tbody>\n",
                            "    <tr>\n",
                            "      <th>0</th>\n",
                            "      <td>['Overgrow', 'Chlorophyll']</td>\n",
                            "      <td>1.0</td>\n",
                            "      <td>1.0</td>\n",
                            "      <td>1.0</td>\n",
                            "      <td>0.5</td>\n",
                            "      <td>0.5</td>\n",
                            "      <td>0.5</td>\n",
                            "      <td>2.0</td>\n",
                            "      <td>2.0</td>\n",
                            "      <td>1.0</td>\n",
                            "      <td>...</td>\n",
                            "      <td>88.1</td>\n",
                            "      <td>1</td>\n",
                            "      <td>65</td>\n",
                            "      <td>65</td>\n",
                            "      <td>45</td>\n",
                            "      <td>grass</td>\n",
                            "      <td>poison</td>\n",
                            "      <td>6.9</td>\n",
                            "      <td>1</td>\n",
                            "      <td>0</td>\n",
                            "    </tr>\n",
                            "    <tr>\n",
                            "      <th>1</th>\n",
                            "      <td>['Overgrow', 'Chlorophyll']</td>\n",
                            "      <td>1.0</td>\n",
                            "      <td>1.0</td>\n",
                            "      <td>1.0</td>\n",
                            "      <td>0.5</td>\n",
                            "      <td>0.5</td>\n",
                            "      <td>0.5</td>\n",
                            "      <td>2.0</td>\n",
                            "      <td>2.0</td>\n",
                            "      <td>1.0</td>\n",
                            "      <td>...</td>\n",
                            "      <td>88.1</td>\n",
                            "      <td>2</td>\n",
                            "      <td>80</td>\n",
                            "      <td>80</td>\n",
                            "      <td>60</td>\n",
                            "      <td>grass</td>\n",
                            "      <td>poison</td>\n",
                            "      <td>13.0</td>\n",
                            "      <td>1</td>\n",
                            "      <td>0</td>\n",
                            "    </tr>\n",
                            "    <tr>\n",
                            "      <th>2</th>\n",
                            "      <td>['Overgrow', 'Chlorophyll']</td>\n",
                            "      <td>1.0</td>\n",
                            "      <td>1.0</td>\n",
                            "      <td>1.0</td>\n",
                            "      <td>0.5</td>\n",
                            "      <td>0.5</td>\n",
                            "      <td>0.5</td>\n",
                            "      <td>2.0</td>\n",
                            "      <td>2.0</td>\n",
                            "      <td>1.0</td>\n",
                            "      <td>...</td>\n",
                            "      <td>88.1</td>\n",
                            "      <td>3</td>\n",
                            "      <td>122</td>\n",
                            "      <td>120</td>\n",
                            "      <td>80</td>\n",
                            "      <td>grass</td>\n",
                            "      <td>poison</td>\n",
                            "      <td>100.0</td>\n",
                            "      <td>1</td>\n",
                            "      <td>0</td>\n",
                            "    </tr>\n",
                            "    <tr>\n",
                            "      <th>3</th>\n",
                            "      <td>['Blaze', 'Solar Power']</td>\n",
                            "      <td>0.5</td>\n",
                            "      <td>1.0</td>\n",
                            "      <td>1.0</td>\n",
                            "      <td>1.0</td>\n",
                            "      <td>0.5</td>\n",
                            "      <td>1.0</td>\n",
                            "      <td>0.5</td>\n",
                            "      <td>1.0</td>\n",
                            "      <td>1.0</td>\n",
                            "      <td>...</td>\n",
                            "      <td>88.1</td>\n",
                            "      <td>4</td>\n",
                            "      <td>60</td>\n",
                            "      <td>50</td>\n",
                            "      <td>65</td>\n",
                            "      <td>fire</td>\n",
                            "      <td>NaN</td>\n",
                            "      <td>8.5</td>\n",
                            "      <td>1</td>\n",
                            "      <td>0</td>\n",
                            "    </tr>\n",
                            "    <tr>\n",
                            "      <th>4</th>\n",
                            "      <td>['Blaze', 'Solar Power']</td>\n",
                            "      <td>0.5</td>\n",
                            "      <td>1.0</td>\n",
                            "      <td>1.0</td>\n",
                            "      <td>1.0</td>\n",
                            "      <td>0.5</td>\n",
                            "      <td>1.0</td>\n",
                            "      <td>0.5</td>\n",
                            "      <td>1.0</td>\n",
                            "      <td>1.0</td>\n",
                            "      <td>...</td>\n",
                            "      <td>88.1</td>\n",
                            "      <td>5</td>\n",
                            "      <td>80</td>\n",
                            "      <td>65</td>\n",
                            "      <td>80</td>\n",
                            "      <td>fire</td>\n",
                            "      <td>NaN</td>\n",
                            "      <td>19.0</td>\n",
                            "      <td>1</td>\n",
                            "      <td>0</td>\n",
                            "    </tr>\n",
                            "  </tbody>\n",
                            "</table>\n",
                            "<p>5 rows × 41 columns</p>\n",
                            "</div>"
                        ],
                        "text/plain": [
                            "                     abilities  against_bug  against_dark  against_dragon  \\\n",
                            "0  ['Overgrow', 'Chlorophyll']          1.0           1.0             1.0   \n",
                            "1  ['Overgrow', 'Chlorophyll']          1.0           1.0             1.0   \n",
                            "2  ['Overgrow', 'Chlorophyll']          1.0           1.0             1.0   \n",
                            "3     ['Blaze', 'Solar Power']          0.5           1.0             1.0   \n",
                            "4     ['Blaze', 'Solar Power']          0.5           1.0             1.0   \n",
                            "\n",
                            "   against_electric  against_fairy  against_fight  against_fire  \\\n",
                            "0               0.5            0.5            0.5           2.0   \n",
                            "1               0.5            0.5            0.5           2.0   \n",
                            "2               0.5            0.5            0.5           2.0   \n",
                            "3               1.0            0.5            1.0           0.5   \n",
                            "4               1.0            0.5            1.0           0.5   \n",
                            "\n",
                            "   against_flying  against_ghost  ...  percentage_male  pokedex_number  \\\n",
                            "0             2.0            1.0  ...             88.1               1   \n",
                            "1             2.0            1.0  ...             88.1               2   \n",
                            "2             2.0            1.0  ...             88.1               3   \n",
                            "3             1.0            1.0  ...             88.1               4   \n",
                            "4             1.0            1.0  ...             88.1               5   \n",
                            "\n",
                            "   sp_attack  sp_defense  speed  type1   type2  weight_kg  generation  \\\n",
                            "0         65          65     45  grass  poison        6.9           1   \n",
                            "1         80          80     60  grass  poison       13.0           1   \n",
                            "2        122         120     80  grass  poison      100.0           1   \n",
                            "3         60          50     65   fire     NaN        8.5           1   \n",
                            "4         80          65     80   fire     NaN       19.0           1   \n",
                            "\n",
                            "   is_legendary  \n",
                            "0             0  \n",
                            "1             0  \n",
                            "2             0  \n",
                            "3             0  \n",
                            "4             0  \n",
                            "\n",
                            "[5 rows x 41 columns]"
                        ]
                    },
                    "execution_count": 2,
                    "metadata": {},
                    "output_type": "execute_result"
                }
            ],
            "source": [
                "# Import standard libraries\n",
                "import pandas as pd\n",
                "import numpy as np\n",
                "import matplotlib.pyplot as plt\n",
                "import seaborn as sns\n",
                "\n",
                "# Set plot style\n",
                "plt.style.use('seaborn-v0_8-whitegrid')\n",
                "plt.rcParams['figure.figsize'] = (12, 8)\n",
                "\n",
                "# Import the interview package\n",
                "from interview import data\n",
                "\n",
                "# Load the Pokemon dataset\n",
                "pokemon_df = data.load_pokemon_data()\n",
                "\n",
                "# Display the first few rows\n",
                "pokemon_df.head()"
            ]
        },
        {
            "cell_type": "markdown",
            "metadata": {},
            "source": [
                "## Step 1: Data Exploration\n",
                "\n",
                "In this step, you will explore the Pokemon dataset to understand its structure, features, and basic statistics.\n",
                "\n",
                "Tasks:\n",
                "1. Examine the dataset structure (shape, columns, data types)\n",
                "2. Check for missing values and handle them appropriately\n",
                "3. Calculate basic statistics for numeric columns\n",
                "4. Explore the distribution of Pokemon types\n",
                "5. Identify any interesting patterns or relationships in the data"
            ]
        },
        {
            "cell_type": "code",
            "execution_count": null,
            "metadata": {},
            "outputs": [],
            "source": [
                "# Examine the dataset structure\n",
                "# Your code here"
            ]
        },
        {
            "cell_type": "code",
            "execution_count": null,
            "metadata": {},
            "outputs": [],
            "source": [
                "# Check for missing values\n",
                "# Your code here"
            ]
        },
        {
            "cell_type": "code",
            "execution_count": null,
            "metadata": {},
            "outputs": [],
            "source": [
                "# Calculate basic statistics for numeric columns\n",
                "# Your code here"
            ]
        },
        {
            "cell_type": "code",
            "execution_count": null,
            "metadata": {},
            "outputs": [],
            "source": [
                "# Explore the distribution of Pokemon types\n",
                "# Your code here"
            ]
        },
        {
            "cell_type": "code",
            "execution_count": null,
            "metadata": {},
            "outputs": [],
            "source": [
                "# Identify interesting patterns or relationships\n",
                "# Your code here"
            ]
        },
        {
            "cell_type": "markdown",
            "metadata": {},
            "source": [
                "## Step 2: Distribution Analysis\n",
                "\n",
                "In this step, you will analyze the distributions of key Pokemon attributes: weight, attack, defense, speed, and type.\n",
                "\n",
                "Tasks:\n",
                "1. Create visualizations to show the distributions of weight, attack, defense, and speed\n",
                "2. Analyze how these attributes vary across different Pokemon types\n",
                "3. Identify any outliers and discuss their impact\n",
                "4. Calculate and visualize correlations between numeric attributes\n",
                "5. Draw insights from your analysis"
            ]
        },
        {
            "cell_type": "code",
            "execution_count": null,
            "metadata": {},
            "outputs": [],
            "source": [
                "# Create visualizations for weight, attack, defense, and speed distributions\n",
                "# Your code here"
            ]
        },
        {
            "cell_type": "code",
            "execution_count": null,
            "metadata": {},
            "outputs": [],
            "source": [
                "# Analyze attribute variations across Pokemon types\n",
                "# Your code here"
            ]
        },
        {
            "cell_type": "code",
            "execution_count": null,
            "metadata": {},
            "outputs": [],
            "source": [
                "# Identify and discuss outliers\n",
                "# Your code here"
            ]
        },
        {
            "cell_type": "code",
            "execution_count": null,
            "metadata": {},
            "outputs": [],
            "source": [
                "# Calculate and visualize correlations\n",
                "# Your code here"
            ]
        },
        {
            "cell_type": "code",
            "execution_count": null,
            "metadata": {},
            "outputs": [],
            "source": [
                "# Draw insights from your analysis\n",
                "# Your code here"
            ]
        },
        {
            "cell_type": "markdown",
            "metadata": {},
            "source": [
                "## Step 3: Feature Selection & Type Prediction Model\n",
                "\n",
                "In this step, you will explore which features are most important for determining Pokemon type, select the most relevant features, and build a model to predict Pokemon type.\n",
                "\n",
                "Tasks:\n",
                "1. Explore the relationship between various features and Pokemon types\n",
                "2. Identify which features are most predictive of Pokemon type\n",
                "3. Select the most relevant features for your model\n",
                "4. Build a classification model using your selected features\n",
                "5. Evaluate the model's performance\n",
                "6. Interpret the results and discuss feature importance"
            ]
        },
        {
            "cell_type": "code",
            "execution_count": null,
            "metadata": {},
            "outputs": [],
            "source": [
                "# Explore feature importance for type prediction\n",
                "# Your code here"
            ]
        },
        {
            "cell_type": "code",
            "execution_count": null,
            "metadata": {},
            "outputs": [],
            "source": [
                "# Select the most relevant features\n",
                "# Your code here"
            ]
        },
        {
            "cell_type": "code",
            "execution_count": null,
            "metadata": {},
            "outputs": [],
            "source": [
                "# Build a model with selected features\n",
                "# Your code here"
            ]
        },
        {
            "cell_type": "code",
            "execution_count": null,
            "metadata": {},
            "outputs": [],
            "source": [
                "# Evaluate the model's performance\n",
                "# Your code here"
            ]
        },
        {
            "cell_type": "code",
            "execution_count": null,
            "metadata": {},
            "outputs": [],
            "source": [
                "# Interpret the results and discuss feature importance\n",
                "# Your code here"
            ]
        },
        {
            "cell_type": "markdown",
            "metadata": {},
            "source": [
                "## Step 4: Attack Prediction Model\n",
                "\n",
                "In this step, you will build a model to predict a Pokemon's attack stat based on multiple features.\n",
                "\n",
                "Tasks:\n",
                "1. Identify which features might be relevant for predicting attack stat\n",
                "2. Prepare the data for modeling (features and target)\n",
                "3. Split the data into training and testing sets\n",
                "4. Select an appropriate algorithm for this regression task\n",
                "5. Train the model and evaluate its performance\n",
                "6. Interpret the results and discuss the model's strengths and limitations"
            ]
        },
        {
            "cell_type": "code",
            "execution_count": null,
            "metadata": {},
            "outputs": [],
            "source": [
                "# Identify relevant features for predicting attack\n",
                "# Your code here"
            ]
        },
        {
            "cell_type": "code",
            "execution_count": null,
            "metadata": {},
            "outputs": [],
            "source": [
                "# Prepare the data for modeling\n",
                "# Your code here"
            ]
        },
        {
            "cell_type": "code",
            "execution_count": null,
            "metadata": {},
            "outputs": [],
            "source": [
                "# Split the data into training and testing sets\n",
                "# Your code here"
            ]
        },
        {
            "cell_type": "code",
            "execution_count": null,
            "metadata": {},
            "outputs": [],
            "source": [
                "# Select and train a regression model\n",
                "# Your code here"
            ]
        },
        {
            "cell_type": "code",
            "execution_count": null,
            "metadata": {},
            "outputs": [],
            "source": [
                "# Evaluate the model's performance\n",
                "# Your code here"
            ]
        },
        {
            "cell_type": "code",
            "execution_count": null,
            "metadata": {},
            "outputs": [],
            "source": [
                "# Interpret the results\n",
                "# Your code here"
            ]
        },
        {
            "cell_type": "markdown",
            "metadata": {},
            "source": [
                "## Conclusion\n",
                "\n",
                "Congratulations on completing the AI/ML coding interview assessment!\n",
                "\n",
                "In this assessment, you have:\n",
                "1. Explored the Pokemon dataset and understood its structure\n",
                "2. Analyzed distributions of key Pokemon attributes\n",
                "3. Identified important features and built a classification model to predict Pokemon type\n",
                "4. Built a regression model to predict Pokemon attack stat using multiple features\n",
                "\n",
                "Please take a moment to summarize your findings and reflect on your approach to each task."
            ]
        },
        {
            "cell_type": "code",
            "execution_count": null,
            "metadata": {},
            "outputs": [],
            "source": [
                "# Summary and reflection\n",
                "# Your code here"
            ]
        }
    ],
    "metadata": {
        "kernelspec": {
            "display_name": ".venv",
            "language": "python",
            "name": "python3"
        },
        "language_info": {
            "codemirror_mode": {
                "name": "ipython",
                "version": 3
            },
            "file_extension": ".py",
            "mimetype": "text/x-python",
            "name": "python",
            "nbconvert_exporter": "python",
            "pygments_lexer": "ipython3",
            "version": "3.12.8"
        }
    },
    "nbformat": 4,
    "nbformat_minor": 4
}
